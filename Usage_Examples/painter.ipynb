{
 "cells": [
  {
   "cell_type": "markdown",
   "metadata": {},
   "source": [
    "# GET DATA"
   ]
  },
  {
   "cell_type": "code",
   "execution_count": null,
   "metadata": {},
   "outputs": [],
   "source": [
    "from visjobs.datas import get_data\n",
    "from visjobs.visualize import draw_map\n",
    "from visjobs.visualize import easy_plot\n",
    "import numpy as np\n",
    "import xarray as xr"
   ]
  },
  {
   "cell_type": "code",
   "execution_count": null,
   "metadata": {},
   "outputs": [],
   "source": [
    "data = get_data.pick_data(year='2020', month='03', day='29', hour='18', model='GFS', resolution=0.25)"
   ]
  },
  {
   "cell_type": "code",
   "execution_count": null,
   "metadata": {},
   "outputs": [],
   "source": [
    "time, dt_dict = get_data.pick_area(data, init_time=0 ,total_process=10, interval=1, \n",
    "                                       list_of_vars=['prmslmsl', 'tmp2m'],\n",
    "                                       list_of_areas=['europe'],pr_height=[500])"
   ]
  },
  {
   "cell_type": "code",
   "execution_count": null,
   "metadata": {},
   "outputs": [],
   "source": [
    "pr = np.divide(dt_dict['europe'][0],100) #to hPa\n",
    "temp = np.subtract(dt_dict['europe'][1],273.15) #DegreeC"
   ]
  },
  {
   "cell_type": "code",
   "execution_count": null,
   "metadata": {},
   "outputs": [],
   "source": [
    "lon = pr.lon[:].values\n",
    "lat = pr.lat[:].values"
   ]
  },
  {
   "cell_type": "markdown",
   "metadata": {},
   "source": [
    "# Do Visualize"
   ]
  },
  {
   "cell_type": "code",
   "execution_count": null,
   "metadata": {},
   "outputs": [],
   "source": [
    "#enter class and make axis\n",
    "m = easy_plot.painter()\n",
    "ax = m.paint_ax(1,1,1, check_proj=True, proj='Mercator')\n",
    "\n",
    "#set features\n",
    "m.paint_borders(ax=ax, zorder=13)\n",
    "m.paint_coastline(ax=ax)\n",
    "m.paint_land(ax=ax, zorder=0)\n",
    "m.paint_states(ax=ax, zorder=14)\n",
    "m.paint_extent(ax=ax, lon_lat = [0,48,30,60])\n",
    "m.set_size(19,21,ax=ax)\n",
    "m.set_gridlines(ax=ax)\n",
    "m.set_lonlat(ax=ax)\n",
    "\n",
    "#Define arrays will be used\n",
    "int_pr = m.set_arange(920,1060,2, method='arange')\n",
    "int_temp = m.set_arange(-40,40,2, method='arange')\n",
    "\n",
    "#Make The plots\n",
    "mesh = m.plot_contour(lon, lat, pr[0,:,:], int_pr, colors='k', linestyles='solid',ax=ax,  linewidths=0.9, transform='PlateCarree')\n",
    "m.plot_clabel(mesh, fontsize=16, inline=1, inline_spacing=7,fmt='%i', rightside_up=True, use_clabeltext=True , ax=ax)\n",
    "mesh_2 = m.plot_contourf(lon, lat, temp[0,:,:], int_temp, transform='PlateCarree', cmap='gist_ncar', alpha=0.6, ax=ax )\n",
    "cb = m.plot_colorbar(mappable=mesh_2, location='bottom', pad='3%', ax=ax)\n",
    "m.set_title(title='GFS 2m Temperature | MSLP',ax=ax, fontsize=35)"
   ]
  }
 ],
 "metadata": {
  "kernelspec": {
   "display_name": "Python 3",
   "language": "python",
   "name": "python3"
  },
  "language_info": {
   "codemirror_mode": {
    "name": "ipython",
    "version": 3
   },
   "file_extension": ".py",
   "mimetype": "text/x-python",
   "name": "python",
   "nbconvert_exporter": "python",
   "pygments_lexer": "ipython3",
   "version": "3.7.4"
  }
 },
 "nbformat": 4,
 "nbformat_minor": 4
}
