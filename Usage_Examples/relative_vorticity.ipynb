{
 "cells": [
  {
   "cell_type": "code",
   "execution_count": 1,
   "metadata": {},
   "outputs": [
    {
     "name": "stderr",
     "output_type": "stream",
     "text": [
      "Cloning into 'metlib'...\n"
     ]
    }
   ],
   "source": [
    "!git clone https://github.com/tomerburg/metlib.git\n",
    "!git clone https://github.com/donmezk/visjobs.git    "
   ]
  },
  {
   "cell_type": "code",
   "execution_count": 1,
   "metadata": {},
   "outputs": [],
   "source": [
    "#get dependencies\n",
    "from visjobs.datas import get_data\n",
    "from visjobs.visualize import easy_plot\n",
    "from metlib.diagnostics import met_functions\n",
    "import xarray as xr\n",
    "import matplotlib.pyplot as plt"
   ]
  },
  {
   "cell_type": "code",
   "execution_count": 31,
   "metadata": {},
   "outputs": [],
   "source": [
    "#getting data and desired variables and desired area\n",
    "data = get_data.pick_data(latest=True, hour='12', model='GFS', )\n",
    "time, dt_dict = get_data.pick_area(data, total_process=32, interval=1, pr_height=['500'], list_of_vars=['ugrdprs', 'vgrdprs', 'hgtprs','prmslmsl'],\n",
    "                                   list_of_areas=['europe'], )\n",
    "#set data\n",
    "uw = dt_dict['europe'][0]\n",
    "vw = dt_dict['europe'][1]\n",
    "hgt = dt_dict['europe'][2]\n",
    "prs = dt_dict['europe'][3] / 100\n",
    "\n",
    "\n",
    "#set lat lon\n",
    "lat = uw.lat[:].values\n",
    "lon = uw.lon[:].values"
   ]
  },
  {
   "cell_type": "code",
   "execution_count": 29,
   "metadata": {},
   "outputs": [],
   "source": [
    "#computing all time steps of the relative vorticity \n",
    "rel_dict = {}\n",
    "for i in range(len(uw['time'])):\n",
    "    rel_vort= met_functions.relvort(uw[i,:,:], vw[i,:,:], lat, lon) * (10**5)\n",
    "    \n",
    "    rel_dict[i] = rel_vort "
   ]
  },
  {
   "cell_type": "code",
   "execution_count": null,
   "metadata": {},
   "outputs": [],
   "source": [
    "#setting background style\n",
    "plt.style.use('dark_background')\n",
    "m = easy_plot.painter()\n",
    "\n",
    "for i in range(len(uw['time'])):\n",
    "    #paint features\n",
    "    ax = m.paint_ax(1,1,1, check_proj=True)\n",
    "    m.paint_borders(ax=ax, res='50m', zorder=4 )\n",
    "    m.paint_land(ax=ax, res='50m', zorder=1)\n",
    "    m.paint_coastline(ax=ax, res='50m', zorder=3, linewidths=1.1)\n",
    "    m.paint_extent(ax=ax, lon_lat=[0,48,30,55])\n",
    "    m.set_lonlat(ax=ax, sizing=18)\n",
    "    m.set_size(ax=ax, a=21, b=19)\n",
    "\n",
    "    #set interval\n",
    "    rel_int = m.set_arange(-50, 51, 2, method='arange')\n",
    "    hgt_int = m.set_arange(4680, 6121,20, method='arange')\n",
    "    prs_int = m.set_arange(930, 1060, 4, method='arange')\n",
    "    \n",
    "    #make the MSLP contour\n",
    "    mesh_prs = m.plot_contour(lon, lat, prs[i,:,:], prs_int, colors='purple', ax=ax,  linewidths=1.5, transform='PlateCarree', zorder=6)\n",
    "    m.plot_clabel(mesh_prs, fontsize=20, inline=1, inline_spacing=7,fmt='%i', rightside_up=True, use_clabeltext=True , ax=ax, zorder=5)\n",
    "\n",
    "    #make the height contour\n",
    "    mesh_hgt = m.plot_contour(lon, lat, hgt[i,:,:], hgt_int, colors='k', ax=ax,  linewidths=1.5, transform='PlateCarree', zorder=6)\n",
    "    m.plot_clabel(mesh_hgt, fontsize=20, inline=1, inline_spacing=7,fmt='%i', rightside_up=True, use_clabeltext=True , ax=ax, zorder=5)\n",
    "\n",
    "    #make the relative vort. contourf\n",
    "    mesh_2 = m.plot_contourf(lon, lat, rel_dict[i], rel_int, transform='PlateCarree', cmap='RdBu_r',  ax=ax, zorder=2 )\n",
    "    cb = m.plot_colorbar(mappable=mesh_2, location='right', size='3%', pad='2%', ax=ax, sizing=17 )\n",
    "    \n",
    "    #set valid and init of the model\n",
    "    valid = uw['time'][i].values \n",
    "    valid = str(valid)[0:13]\n",
    "    init = str(uw['time'].attrs['grads_min'])\n",
    "    \n",
    "    #set titles\n",
    "    title1 = m.set_title(title='RELATIVE VORTICITY(1e-5/s) | 500hPa HEIGHTS(m)',ax=ax, fontsize=30, up=1.016, \n",
    "                     weight='heavy',style='italic',transform=ax.transAxes)\n",
    "    title2 = m.set_title(title='Init: {}'.format(init),right=0, up=-0.0920,ax=ax, fontsize=21,\n",
    "                         style='italic', transform=ax.transAxes)\n",
    "    title3 = m.set_title(title='Data: Global Forecast System 0.25°'.format(init),right=0, up=-0.0720,ax=ax, fontsize=21,\n",
    "                         style='italic', transform=ax.transAxes)\n",
    "    title4 = m.set_title(title='Codes: github.com/donmezk'.format(init),right=0, up=-0.1120,ax=ax, fontsize=21,\n",
    "                         style='italic', weight='heavy', transform=ax.transAxes)\n",
    "    title5 = m.set_title(title='Valid: {}'.format(valid), right=0.650, up=-0.0920, ax=ax, fontsize=30,\n",
    "                         weight='heavy',style='italic', color='red', transform=ax.transAxes,\n",
    "                         bbox=dict(boxstyle=\"square\",alpha=0.7,\n",
    "                               ec='red',\n",
    "                               fc='white',\n",
    "                               ))\n",
    "    title6 = m.set_title(title='Kutay DÖNMEZ', color='k', right=0.00690, up=0.9652000, ax=ax, size=25, zorder=17,style='italic',transform=ax.transAxes,\n",
    "\n",
    "                     bbox=dict(boxstyle=\"square\",alpha=0.7,\n",
    "                               ec='black',\n",
    "                               fc='white',\n",
    "                               ))\n",
    "    \n",
    "    #save figure\n",
    "    plt.savefig('picturing\\map{}'.format(i), bbox_inches='tight', edgecolor='w')\n",
    "    \n",
    "    "
   ]
  },
  {
   "cell_type": "code",
   "execution_count": null,
   "metadata": {},
   "outputs": [],
   "source": []
  },
  {
   "cell_type": "code",
   "execution_count": null,
   "metadata": {},
   "outputs": [],
   "source": []
  }
 ],
 "metadata": {
  "kernelspec": {
   "display_name": "Python 3",
   "language": "python",
   "name": "python3"
  },
  "language_info": {
   "codemirror_mode": {
    "name": "ipython",
    "version": 3
   },
   "file_extension": ".py",
   "mimetype": "text/x-python",
   "name": "python",
   "nbconvert_exporter": "python",
   "pygments_lexer": "ipython3",
   "version": "3.7.4"
  }
 },
 "nbformat": 4,
 "nbformat_minor": 4
}
