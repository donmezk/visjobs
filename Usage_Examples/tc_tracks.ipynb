{
 "cells": [
  {
   "cell_type": "code",
   "execution_count": null,
   "metadata": {},
   "outputs": [],
   "source": [
    "#get dependencies\n",
    "import pandas as pd\n",
    "import numpy as np\n",
    "import matplotlib.pyplot as plt\n",
    "import xarray as xr\n",
    "from visjobs.datas import get_data\n",
    "from visjobs.visualize import easy_plot\n",
    "import cartopy\n",
    "from matplotlib.collections import LineCollection\n",
    "import seaborn as sns\n",
    "import matplotlib as mpl"
   ]
  },
  {
   "cell_type": "code",
   "execution_count": null,
   "metadata": {},
   "outputs": [],
   "source": [
    "#get atlantic best track data from NHC\n",
    "df = pd.read_csv(r'\\hurdat2-1851-2018-120319_atlantic.txt', sep=',')"
   ]
  },
  {
   "cell_type": "code",
   "execution_count": null,
   "metadata": {},
   "outputs": [],
   "source": [
    "#wrap the data\n",
    "hur_dict = wrap_tc_data(df)"
   ]
  },
  {
   "cell_type": "code",
   "execution_count": null,
   "metadata": {},
   "outputs": [],
   "source": [
    "#adjust the data so that any specific hurricane can be picked up easily\n",
    "deadliest_tc = ['KATRINA2', 'SANDY', 'MICHAEL2', 'HARVEY5', 'IRMA1', 'MARIA2']\n",
    "all_matrises = {}\n",
    "for tc in deadliest_tc:\n",
    "    data_matris = sep_tc_data(hur_dict[tc], stack=False)\n",
    "    tc_matris = adjust_data_spaces(data_matris)\n",
    "    adjusted_matris = coords_str_to_float(tc_matris)\n",
    "    all_matrises[tc] = adjusted_matris\n",
    "    "
   ]
  },
  {
   "cell_type": "code",
   "execution_count": null,
   "metadata": {},
   "outputs": [],
   "source": [
    "#make the track map\n",
    "m = easy_plot.painter()\n",
    "ax = m.paint_ax(1,1,1, check_proj=True)\n",
    "m.paint_borders(ax=ax, res='10m', zorder=4.5, linewidths=2.3, edgecolor='darkblue' )\n",
    "oceans = ax.add_feature(cartopy.feature.OCEAN.with_scale('50m'), facecolor = 'lightcyan')\n",
    "m.paint_states(ax=ax, res='10m', zorder=4, linewidths=0.2, edgecolor='darkblue' )\n",
    "land = ax.add_feature(cartopy.feature.LAND.with_scale('10m'), facecolor = 'bisque')\n",
    "lake = ax.add_feature(cartopy.feature.LAKES.with_scale('10m'), facecolor = 'lightcyan', linewidths=1.2)\n",
    "m.paint_coastline(ax=ax, res='10m', zorder=3, linewidths=1.5, edgecolor='darkblue')\n",
    "m.paint_extent(ax=ax, lon_lat=[258,340,10,50])\n",
    "m.set_lonlat(ax=ax, sizing=18)\n",
    "m.set_size(ax=ax, a=21, b=19)\n",
    "\n",
    "colormap = mpl.cm.Dark2.colors\n",
    "m_styles = ['8','.','o','^','*','P','s']\n",
    "TC_NAMES = ['KATRINA', 'SANDY', 'MICHAEL', 'HARVEY', 'IRMA', 'MARIA']\n",
    "\n",
    "\n",
    "color_i = 0\n",
    "for i in deadliest_tc:\n",
    "    ax.plot(360-all_matrises[i][5], all_matrises[i][4], color=colormap[color_i], marker=m_styles[color_i] \n",
    "            ,transform=cartopy.crs.PlateCarree(), zorder=15, linewidth=2, label=TC_NAMES[color_i])\n",
    "    \n",
    "    \n",
    "    \n",
    "    color_i += 1\n",
    "\n",
    "plt.legend( loc=1, borderaxespad=0.,ncol=3, prop={'size': 30});\n",
    "title1 = m.set_title(title=\"USA Most Known Hurricanes In 2000's\",ax=ax, fontsize=30, up=1.016, \n",
    "                     weight='heavy',style='italic',transform=ax.transAxes)\n",
    "\n",
    "title2 = m.set_title(title='Kutay DÖNMEZ', color='k', right=0.00690, up=0.9652000, ax=ax, size=25, zorder=17,style='italic',transform=ax.transAxes,\n",
    "\n",
    "                     bbox=dict(boxstyle=\"square\",alpha=0.7,\n",
    "                               ec='black',\n",
    "                               fc='white',\n",
    "                               ))\n",
    "\n",
    "plt.savefig(r'\\hurricanes{}.png'.format(i), bbox_inches='tight')\n",
    "\n"
   ]
  }
 ],
 "metadata": {
  "kernelspec": {
   "display_name": "Python 3",
   "language": "python",
   "name": "python3"
  },
  "language_info": {
   "codemirror_mode": {
    "name": "ipython",
    "version": 3
   },
   "file_extension": ".py",
   "mimetype": "text/x-python",
   "name": "python",
   "nbconvert_exporter": "python",
   "pygments_lexer": "ipython3",
   "version": "3.7.4"
  }
 },
 "nbformat": 4,
 "nbformat_minor": 4
}
