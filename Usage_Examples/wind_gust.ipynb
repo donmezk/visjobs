{
 "cells": [
  {
   "cell_type": "code",
   "execution_count": null,
   "metadata": {},
   "outputs": [],
   "source": [
    "#importing dependencies\n",
    "from visjobs.datas import get_data\n",
    "from visjobs.visualize import draw_map\n",
    "import xarray as xr\n",
    "import numpy as np\n",
    "\n",
    "#getting the data using pick_data function of visjobs.datas\n",
    "#hour=06 means the 06Z run of the model \n",
    "#here latest=True means the latest output with 06Z run\n",
    "#model is chosen GFS can be changed to NAM also\n",
    "#if hourly=False the GFS model will be 3 hourly -->only valid for GFS not for NAM\n",
    "data = get_data.pick_data( hour='06',latest=True,model='GFS', hourly=False)\n",
    "\n",
    "# here we are getting the desired variables with desired areas of interest,returned in dictionary\n",
    "time, area_dict = get_data.pick_area(data, total_process=2, interval=1, list_of_vars=['gustsfc',],\n",
    "                          list_of_areas=['carribeans','indianocean'])\n",
    "\n",
    "#let's say I want to plot 500mb heights and mslp for Australia\n",
    "#so in the upper part I got the relevant data using pick_area function\n",
    "#so let's wrap the data:\n",
    "\n",
    "gust = area_dict['indianocean'][0]\n",
    "\n",
    "#choosing the desired plot size\n",
    "import numpy as np\n",
    "from pylab import rcParams\n",
    "rcParams['figure.figsize'] = 21,24\n",
    "\n",
    "#place='europe' indicates the basin that user want to show as a plot.\n",
    "#places avaliable for plotting\n",
    "#places= np.array(['europe','northamerica','australia','gulfofmexico','carribeans','indianocean'])\n",
    "#if breaking=True only a single map will be created even if a bunch of time is introduced \n",
    "#if title_on=False the title will be missed\n",
    "#if the title_on=True, title will be plotted and one can change it posisition arguments using\n",
    "#tl1,tl2,tl3 etc. parameters.\n",
    "# here tl5 is used to change the position of owner_name\n",
    "#owner_name plots the upper-left sign.\n",
    "draw_map.wind_gust(time, gust, place='indianocean',\n",
    "                          save_where=r'wind_gust{}.png', breaking=True, \n",
    "                          title_on=True ,owner_name='Kutay DÖNMEZ',plot_main_title=\n",
    "                         r'GFS Surface Wind Gust(m/s)',\n",
    "                         tl5=[0.0047, 0.98100], tl1=[0,1.022])\n"
   ]
  }
 ],
 "metadata": {
  "kernelspec": {
   "display_name": "Python 3",
   "language": "python",
   "name": "python3"
  },
  "language_info": {
   "codemirror_mode": {
    "name": "ipython",
    "version": 3
   },
   "file_extension": ".py",
   "mimetype": "text/x-python",
   "name": "python",
   "nbconvert_exporter": "python",
   "pygments_lexer": "ipython3",
   "version": "3.7.4"
  }
 },
 "nbformat": 4,
 "nbformat_minor": 4
}
